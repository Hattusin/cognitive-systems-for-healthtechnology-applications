{
 "cells": [
  {
   "cell_type": "markdown",
   "metadata": {},
   "source": [
    "# Case 2 - 5. trial\n",
    "## Diabetic retinopathy analysis\n",
    "Jenni Hautojärvi   \n",
    "Last edited: 25.2.2017   \n",
    "Cognitive Systems for Health Technology Applications   \n",
    "Helsinki Metropolia University of Applied Sciences  \n"
   ]
  },
  {
   "cell_type": "markdown",
   "metadata": {},
   "source": [
    "# 1. Objectives\n",
    "In this assignment the main goal was to get familiar how to use convolutional neural networks to classify medical. In this case diabetic retinopathy images."
   ]
  },
  {
   "cell_type": "markdown",
   "metadata": {},
   "source": [
    "# 2. Import libraries"
   ]
  },
  {
   "cell_type": "code",
   "execution_count": 1,
   "metadata": {},
   "outputs": [
    {
     "name": "stderr",
     "output_type": "stream",
     "text": [
      "Using TensorFlow backend.\n"
     ]
    }
   ],
   "source": [
    "import numpy as np\n",
    "import matplotlib.pyplot as plt\n",
    "import keras\n",
    "from keras import layers, models\n",
    "%matplotlib inline"
   ]
  },
  {
   "cell_type": "markdown",
   "metadata": {},
   "source": [
    "# 3. Building network"
   ]
  },
  {
   "cell_type": "code",
   "execution_count": 2,
   "metadata": {},
   "outputs": [
    {
     "name": "stdout",
     "output_type": "stream",
     "text": [
      "_________________________________________________________________\n",
      "Layer (type)                 Output Shape              Param #   \n",
      "=================================================================\n",
      "conv2d_1 (Conv2D)            (None, 148, 148, 16)      448       \n",
      "_________________________________________________________________\n",
      "max_pooling2d_1 (MaxPooling2 (None, 74, 74, 16)        0         \n",
      "_________________________________________________________________\n",
      "conv2d_2 (Conv2D)            (None, 72, 72, 32)        4640      \n",
      "_________________________________________________________________\n",
      "max_pooling2d_2 (MaxPooling2 (None, 36, 36, 32)        0         \n",
      "_________________________________________________________________\n",
      "conv2d_3 (Conv2D)            (None, 34, 34, 64)        18496     \n",
      "_________________________________________________________________\n",
      "max_pooling2d_3 (MaxPooling2 (None, 17, 17, 64)        0         \n",
      "_________________________________________________________________\n",
      "conv2d_4 (Conv2D)            (None, 15, 15, 64)        36928     \n",
      "_________________________________________________________________\n",
      "max_pooling2d_4 (MaxPooling2 (None, 7, 7, 64)          0         \n",
      "_________________________________________________________________\n",
      "flatten_1 (Flatten)          (None, 3136)              0         \n",
      "_________________________________________________________________\n",
      "dense_1 (Dense)              (None, 512)               1606144   \n",
      "_________________________________________________________________\n",
      "dense_2 (Dense)              (None, 1)                 513       \n",
      "=================================================================\n",
      "Total params: 1,667,169\n",
      "Trainable params: 1,667,169\n",
      "Non-trainable params: 0\n",
      "_________________________________________________________________\n"
     ]
    }
   ],
   "source": [
    "model = models.Sequential()\n",
    "model.add(layers.Conv2D(16, (3, 3), activation='relu',\n",
    "                        input_shape=(150, 150, 3)))\n",
    "model.add(layers.MaxPooling2D((2, 2)))\n",
    "model.add(layers.Conv2D(32, (3, 3), activation='relu'))\n",
    "model.add(layers.MaxPooling2D((2, 2)))\n",
    "model.add(layers.Conv2D(64, (3, 3), activation='relu'))\n",
    "model.add(layers.MaxPooling2D((2, 2)))\n",
    "model.add(layers.Conv2D(64, (3, 3), activation='relu'))\n",
    "model.add(layers.MaxPooling2D((2, 2)))\n",
    "model.add(layers.Flatten())\n",
    "model.add(layers.Dense(512, activation='relu'))\n",
    "model.add(layers.Dense(1, activation='sigmoid'))\n",
    "\n",
    "model.summary()"
   ]
  },
  {
   "cell_type": "code",
   "execution_count": 3,
   "metadata": {
    "collapsed": true
   },
   "outputs": [],
   "source": [
    "from keras import optimizers\n",
    "\n",
    "model.compile(loss='binary_crossentropy',\n",
    "              optimizer=optimizers.RMSprop(lr=1e-4),\n",
    "              metrics=['acc'])"
   ]
  },
  {
   "cell_type": "markdown",
   "metadata": {},
   "source": [
    "# 4. Data preprocessing"
   ]
  },
  {
   "cell_type": "code",
   "execution_count": 4,
   "metadata": {},
   "outputs": [
    {
     "name": "stdout",
     "output_type": "stream",
     "text": [
      "Found 1237 images belonging to 2 classes.\n",
      "Found 413 images belonging to 2 classes.\n"
     ]
    }
   ],
   "source": [
    "from keras.preprocessing.image import ImageDataGenerator\n",
    "from skimage import exposure, color\n",
    "\n",
    "train_dir = '/Users/hautsi/Documents/Cognitive Systems for Health Technology Applications /retinopathy-dataset-master/dataset2/train'\n",
    "validation_dir = '/Users/hautsi/Documents/Cognitive Systems for Health Technology Applications /retinopathy-dataset-master/dataset2/validation'\n",
    "test_dir = '/Users/hautsi/Documents/Cognitive Systems for Health Technology Applications /retinopathy-dataset-master/dataset2/test'\n",
    "\n",
    "# All images will be rescaled by 1./255\n",
    "\n",
    "train_datagen = ImageDataGenerator(\n",
    "      rescale=1./255,\n",
    "      zoom_range=0.5,\n",
    "      #horizontal_flip=True,\n",
    "      fill_mode='nearest')\n",
    "\n",
    "\n",
    "# Note that the validation data should not be augmented!\n",
    "test_datagen = ImageDataGenerator(rescale=1./255)\n",
    "\n",
    "\n",
    "train_generator = train_datagen.flow_from_directory(\n",
    "        # This is the target directory\n",
    "        train_dir,\n",
    "        # All images will be resized to 150x150\n",
    "        target_size=(150, 150),\n",
    "        batch_size=20,\n",
    "        # Since we use binary_crossentropy loss, we need binary labels\n",
    "        class_mode='binary')\n",
    "\n",
    "validation_generator = test_datagen.flow_from_directory(\n",
    "        validation_dir,\n",
    "        target_size=(150, 150),\n",
    "        batch_size=20,\n",
    "        class_mode='binary')\n",
    "\n"
   ]
  },
  {
   "cell_type": "code",
   "execution_count": 5,
   "metadata": {},
   "outputs": [
    {
     "name": "stdout",
     "output_type": "stream",
     "text": [
      "data batch shape: (20, 150, 150, 3)\n",
      "labels batch shape: (20,)\n"
     ]
    }
   ],
   "source": [
    "# Testing\n",
    "for data_batch, labels_batch in train_generator:\n",
    "    print('data batch shape:', data_batch.shape)\n",
    "    print('labels batch shape:', labels_batch.shape)\n",
    "    break"
   ]
  },
  {
   "cell_type": "code",
   "execution_count": 6,
   "metadata": {},
   "outputs": [
    {
     "data": {
      "text/plain": [
       "array([ 0.,  0.,  0.,  1.,  0.,  1.,  1.,  0.,  1.,  0.,  0.,  0.,  0.,\n",
       "        0.,  0.,  0.,  0.,  0.,  1.,  0.], dtype=float32)"
      ]
     },
     "execution_count": 6,
     "metadata": {},
     "output_type": "execute_result"
    }
   ],
   "source": [
    "labels_batch"
   ]
  },
  {
   "cell_type": "markdown",
   "metadata": {},
   "source": [
    "# 5. Train the Model"
   ]
  },
  {
   "cell_type": "code",
   "execution_count": 7,
   "metadata": {},
   "outputs": [
    {
     "name": "stdout",
     "output_type": "stream",
     "text": [
      "Epoch 1/30\n",
      "62/62 [==============================] - 696s 11s/step - loss: 0.5577 - acc: 0.7099 - val_loss: 0.5570 - val_acc: 0.7119\n",
      "Epoch 2/30\n",
      "62/62 [==============================] - 512s 8s/step - loss: 0.5336 - acc: 0.7211 - val_loss: 0.5472 - val_acc: 0.7361\n",
      "Epoch 3/30\n",
      "62/62 [==============================] - 546s 9s/step - loss: 0.5290 - acc: 0.7235 - val_loss: 0.5511 - val_acc: 0.7458\n",
      "Epoch 4/30\n",
      "62/62 [==============================] - 552s 9s/step - loss: 0.5271 - acc: 0.7357 - val_loss: 0.5408 - val_acc: 0.7385\n",
      "Epoch 5/30\n",
      "62/62 [==============================] - 521s 8s/step - loss: 0.5263 - acc: 0.7447 - val_loss: 0.5501 - val_acc: 0.7264\n",
      "Epoch 6/30\n",
      "62/62 [==============================] - 521s 8s/step - loss: 0.5127 - acc: 0.7485 - val_loss: 0.5520 - val_acc: 0.7385\n",
      "Epoch 7/30\n",
      "62/62 [==============================] - 518s 8s/step - loss: 0.5180 - acc: 0.7518 - val_loss: 0.5606 - val_acc: 0.7240\n",
      "Epoch 8/30\n",
      "62/62 [==============================] - 514s 8s/step - loss: 0.5165 - acc: 0.7520 - val_loss: 0.5313 - val_acc: 0.7361\n",
      "Epoch 9/30\n",
      "62/62 [==============================] - 517s 8s/step - loss: 0.5108 - acc: 0.7488 - val_loss: 0.5344 - val_acc: 0.7361\n",
      "Epoch 10/30\n",
      "62/62 [==============================] - 505s 8s/step - loss: 0.5079 - acc: 0.7455 - val_loss: 0.5352 - val_acc: 0.7361\n",
      "Epoch 11/30\n",
      "62/62 [==============================] - 499s 8s/step - loss: 0.5121 - acc: 0.7501 - val_loss: 0.5475 - val_acc: 0.7288\n",
      "Epoch 12/30\n",
      "62/62 [==============================] - 520s 8s/step - loss: 0.5024 - acc: 0.7556 - val_loss: 0.5608 - val_acc: 0.7312\n",
      "Epoch 13/30\n",
      "62/62 [==============================] - 510s 8s/step - loss: 0.5010 - acc: 0.7509 - val_loss: 0.5396 - val_acc: 0.7409\n",
      "Epoch 14/30\n",
      "62/62 [==============================] - 518s 8s/step - loss: 0.5005 - acc: 0.7458 - val_loss: 0.5219 - val_acc: 0.7482\n",
      "Epoch 15/30\n",
      "62/62 [==============================] - 510s 8s/step - loss: 0.4999 - acc: 0.7587 - val_loss: 0.5208 - val_acc: 0.7409\n",
      "Epoch 16/30\n",
      "62/62 [==============================] - 506s 8s/step - loss: 0.4955 - acc: 0.7543 - val_loss: 0.5270 - val_acc: 0.7337\n",
      "Epoch 17/30\n",
      "62/62 [==============================] - 505s 8s/step - loss: 0.5007 - acc: 0.7543 - val_loss: 0.5267 - val_acc: 0.7458\n",
      "Epoch 18/30\n",
      "62/62 [==============================] - 495s 8s/step - loss: 0.4961 - acc: 0.7496 - val_loss: 0.5373 - val_acc: 0.7361\n",
      "Epoch 19/30\n",
      "62/62 [==============================] - 492s 8s/step - loss: 0.4969 - acc: 0.7525 - val_loss: 0.5211 - val_acc: 0.7312\n",
      "Epoch 20/30\n",
      "62/62 [==============================] - 494s 8s/step - loss: 0.4893 - acc: 0.7651 - val_loss: 0.5258 - val_acc: 0.7288\n",
      "Epoch 21/30\n",
      "62/62 [==============================] - 492s 8s/step - loss: 0.4960 - acc: 0.7585 - val_loss: 0.5474 - val_acc: 0.7240\n",
      "Epoch 22/30\n",
      "62/62 [==============================] - 504s 8s/step - loss: 0.4906 - acc: 0.7623 - val_loss: 0.5319 - val_acc: 0.7288\n",
      "Epoch 23/30\n",
      "62/62 [==============================] - 511s 8s/step - loss: 0.4923 - acc: 0.7622 - val_loss: 0.5230 - val_acc: 0.7458\n",
      "Epoch 24/30\n",
      "62/62 [==============================] - 499s 8s/step - loss: 0.4958 - acc: 0.7568 - val_loss: 0.5373 - val_acc: 0.7264\n",
      "Epoch 25/30\n",
      "62/62 [==============================] - 496s 8s/step - loss: 0.4883 - acc: 0.7669 - val_loss: 0.5302 - val_acc: 0.7312\n",
      "Epoch 26/30\n",
      "62/62 [==============================] - 496s 8s/step - loss: 0.4868 - acc: 0.7675 - val_loss: 0.5203 - val_acc: 0.7482\n",
      "Epoch 27/30\n",
      "62/62 [==============================] - 495s 8s/step - loss: 0.4817 - acc: 0.7662 - val_loss: 0.5491 - val_acc: 0.7361\n",
      "Epoch 28/30\n",
      "62/62 [==============================] - 497s 8s/step - loss: 0.4854 - acc: 0.7637 - val_loss: 0.5351 - val_acc: 0.7119\n",
      "Epoch 29/30\n",
      "62/62 [==============================] - 498s 8s/step - loss: 0.4741 - acc: 0.7711 - val_loss: 0.5277 - val_acc: 0.7264\n",
      "Epoch 30/30\n",
      "62/62 [==============================] - 491s 8s/step - loss: 0.4819 - acc: 0.7575 - val_loss: 0.5318 - val_acc: 0.7288\n"
     ]
    }
   ],
   "source": [
    "#steps_per_epoch should be (number of training images total/batch_size)\n",
    "#validation_steps should be (number of validation images total/batch_size)\n",
    "\n",
    "import time\n",
    "\n",
    "t1 = time.time()\n",
    "\n",
    "history = model.fit_generator(\n",
    "      train_generator,\n",
    "      steps_per_epoch=62,\n",
    "      epochs=30,\n",
    "      validation_data=validation_generator,\n",
    "      validation_steps=21,\n",
    "      verbose=1)\n",
    "\n",
    "t2 = time.time()\n"
   ]
  },
  {
   "cell_type": "code",
   "execution_count": 8,
   "metadata": {},
   "outputs": [
    {
     "name": "stdout",
     "output_type": "stream",
     "text": [
      "Elapsed time 4.29 hours.\n",
      "Time per epoch 5.14 minutes.\n"
     ]
    }
   ],
   "source": [
    "print('Elapsed time {:.2f} hours.'.format((t2-t1)/3600))\n",
    "print('Time per epoch {:.2f} minutes.'.format((t2-t1)/50/60))"
   ]
  },
  {
   "cell_type": "code",
   "execution_count": 9,
   "metadata": {
    "collapsed": true
   },
   "outputs": [],
   "source": [
    "# Save the model\n",
    "model.save('case_2_run_5.h5')"
   ]
  },
  {
   "cell_type": "markdown",
   "metadata": {},
   "source": [
    "# 6. Results"
   ]
  },
  {
   "cell_type": "code",
   "execution_count": 10,
   "metadata": {},
   "outputs": [
    {
     "data": {
      "image/png": "[encoded data removed]",
      "text/plain": [
       "<matplotlib.figure.Figure at 0x1a22451748>"
      ]
     },
     "metadata": {},
     "output_type": "display_data"
    },
    {
     "data": {
      "image/png": "[encoded data removed]",
      "text/plain": [
       "<matplotlib.figure.Figure at 0x108a1d208>"
      ]
     },
     "metadata": {},
     "output_type": "display_data"
    }
   ],
   "source": [
    "acc = history.history['acc']\n",
    "val_acc = history.history['val_acc']\n",
    "loss = history.history['loss']\n",
    "val_loss = history.history['val_loss']\n",
    "\n",
    "epochs = range(len(acc))\n",
    "\n",
    "plt.figure()\n",
    "\n",
    "plt.plot(epochs, acc, 'bo', label='Training acc')\n",
    "plt.plot(epochs, val_acc, 'b', label='Validation acc')\n",
    "plt.title('Training and validation accuracy')\n",
    "plt.ylim([0, 1])\n",
    "plt.xlabel('Epochs')\n",
    "plt.grid()\n",
    "plt.legend()\n",
    "\n",
    "plt.figure()\n",
    "\n",
    "plt.plot(epochs, loss, 'bo', label='Training loss')\n",
    "plt.plot(epochs, val_loss, 'b', label='Validation loss')\n",
    "plt.title('Training and validation loss')\n",
    "plt.ylim([0, 1])\n",
    "plt.xlabel('Epochs')\n",
    "plt.grid()\n",
    "plt.legend()\n",
    "\n",
    "plt.show()"
   ]
  },
  {
   "cell_type": "markdown",
   "metadata": {},
   "source": [
    "# 7. Conclusions"
   ]
  },
  {
   "cell_type": "markdown",
   "metadata": {
    "collapsed": true
   },
   "source": [
    "In previous model versions, I found that the drop in use did not achieve accuracy above 0.8. I also used more augmentation in training pictures but it did not improve the accuracy at all. I also tried to use \n",
    "\n",
    "- exposure.equalize_adapthist \n",
    "- exposure.rescale_intensity \n",
    "- exposure.equalize_hist\n",
    "- util.invert\n",
    "   \n",
    "but since we are using rescale = 1./255 the images got very dark. I also tried different batch_size (like 25,40,30,..) but 20 was best using this model."
   ]
  },
  {
   "cell_type": "code",
   "execution_count": null,
   "metadata": {
    "collapsed": true
   },
   "outputs": [],
   "source": []
  }
 ],
 "metadata": {
  "kernelspec": {
   "display_name": "Python 3",
   "language": "python",
   "name": "python3"
  },
  "language_info": {
   "codemirror_mode": {
    "name": "ipython",
    "version": 3
   },
   "file_extension": ".py",
   "mimetype": "text/x-python",
   "name": "python",
   "nbconvert_exporter": "python",
   "pygments_lexer": "ipython3",
   "version": "3.6.4"
  }
 },
 "nbformat": 4,
 "nbformat_minor": 2
}
